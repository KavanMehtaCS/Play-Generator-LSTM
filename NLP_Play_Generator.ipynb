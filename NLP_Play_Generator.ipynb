{
  "cells": [
    {
      "cell_type": "markdown",
      "metadata": {
        "id": "view-in-github",
        "colab_type": "text"
      },
      "source": [
        "<a href=\"https://colab.research.google.com/github/KavanMehtaCS/Play-Generator-LSTM/blob/main/NLP_Play_Generator.ipynb\" target=\"_parent\"><img src=\"https://colab.research.google.com/assets/colab-badge.svg\" alt=\"Open In Colab\"/></a>"
      ]
    },
    {
      "cell_type": "markdown",
      "source": [
        "**Project 3: Play Generation using a LSTM Recurrent Neural Network**\n",
        "\n",
        "*   **Problem Statement**: Automatic generation of a play character by character using a LSTM recurrent neural network.\n",
        "*   A recurrent neural network is a network that “feedbacks” its input and output data to almost “memorize” the correct outputs. It functions like a usual neural network where it learns from its past errors but it takes into account the output of the previous neuron as context for its next neuron which is enabled by using an internal memory. A LSTM recurrent neural netwwork builds on this idea as it counters the problem of retrieving any data from long ago by using a long term memory. This project also uses word embeddings to predict the next character and encode them into vectors like the previous sentiment analysis project.\n",
        "*   This project was trained on the Shakespearen play, Romeo and Juliet, to enable the model to learn the character sequences that came after each other. The play was broken up into different sequences of 201 characters each to create a model that would recognize the next character after a sequence of 200 characters. It repeated this process 50 times and ultimately generated a play based on an entirely new given string. The project also has the ability for reading any outside files and creating text based on that text.\n",
        "*   This is a very useful concept and has a widespread from autocomplete on Google (fuzzy search) and document editors to speech generation.\n"
      ],
      "metadata": {
        "id": "IoZdmWoMugZo"
      }
    },
    {
      "cell_type": "code",
      "execution_count": null,
      "metadata": {
        "id": "fju7i1FKrK_G",
        "colab": {
          "base_uri": "https://localhost:8080/"
        },
        "outputId": "43dca848-e25c-4628-8bd2-902bb7e3d57a"
      },
      "outputs": [
        {
          "output_type": "stream",
          "name": "stdout",
          "text": [
            "`%tensorflow_version` only switches the major version: 1.x or 2.x.\n",
            "You set: `2.x  # this line is not required unless you are in a notebook`. This will be interpreted as: `2.x`.\n",
            "\n",
            "\n",
            "TensorFlow 2.x selected.\n"
          ]
        }
      ],
      "source": [
        "%tensorflow_version 2.x  # this line is not required unless you are in a notebook\n",
        "from keras.preprocessing import sequence\n",
        "import keras\n",
        "import tensorflow as tf\n",
        "import os\n",
        "import numpy as np"
      ]
    },
    {
      "cell_type": "markdown",
      "metadata": {
        "id": "F48c-EctQ378"
      },
      "source": [
        "###Dataset\n",
        "For this example, we only need one peice of training data. In fact, we can write our own poem or play and pass that to the network for training if we'd like. However, to make things easy we'll use an extract from a shakesphere play.\n",
        "\n",
        "\n"
      ]
    },
    {
      "cell_type": "code",
      "execution_count": null,
      "metadata": {
        "id": "IdRcVIhtRGlF",
        "colab": {
          "base_uri": "https://localhost:8080/"
        },
        "outputId": "8110f857-d0de-4ca1-92c6-50709e9b4ade"
      },
      "outputs": [
        {
          "output_type": "stream",
          "name": "stdout",
          "text": [
            "Downloading data from https://storage.googleapis.com/download.tensorflow.org/data/shakespeare.txt\n",
            "1122304/1115394 [==============================] - 0s 0us/step\n",
            "1130496/1115394 [==============================] - 0s 0us/step\n"
          ]
        }
      ],
      "source": [
        "path_to_file = tf.keras.utils.get_file('shakespeare.txt', 'https://storage.googleapis.com/download.tensorflow.org/data/shakespeare.txt')"
      ]
    },
    {
      "cell_type": "markdown",
      "metadata": {
        "id": "NlSVGd5ACkZe"
      },
      "source": [
        "###Loading Your Own Data\n",
        "To load your own data, you'll need to upload a file from the dialog below. Then you'll need to follow the steps from above but load in this new file instead.\n",
        "\n"
      ]
    },
    {
      "cell_type": "code",
      "execution_count": null,
      "metadata": {
        "id": "CFYFwbJOC3bP"
      },
      "outputs": [],
      "source": [
        "#from google.colab import files\n",
        "#path_to_file = list(files.upload().keys())[0]"
      ]
    },
    {
      "cell_type": "code",
      "execution_count": null,
      "metadata": {
        "colab": {
          "base_uri": "https://localhost:8080/"
        },
        "id": "-n4oovOMRnP7",
        "outputId": "47b7f403-51f5-488e-a8d3-fdb728784de3"
      },
      "outputs": [
        {
          "output_type": "stream",
          "name": "stdout",
          "text": [
            "Length of text: 1115394 characters\n"
          ]
        }
      ],
      "source": [
        "# Read, then decode for py2 compat.\n",
        "text = open(path_to_file, 'rb').read().decode(encoding='utf-8')\n",
        "# length of text is the number of characters in it\n",
        "print ('Length of text: {} characters'.format(len(text)))"
      ]
    },
    {
      "cell_type": "code",
      "execution_count": null,
      "metadata": {
        "colab": {
          "base_uri": "https://localhost:8080/"
        },
        "id": "tw-igPEdY8jN",
        "outputId": "f6a8ad1d-a1ed-4703-d419-9a1031686404"
      },
      "outputs": [
        {
          "output_type": "stream",
          "name": "stdout",
          "text": [
            "First Citizen:\n",
            "Before we proceed any further, hear me speak.\n",
            "\n",
            "All:\n",
            "Speak, speak.\n",
            "\n",
            "First Citizen:\n",
            "You are all resolved rather to die than to famish?\n",
            "\n",
            "All:\n",
            "Resolved. resolved.\n",
            "\n",
            "First Citizen:\n",
            "First, you know Caius Marcius is chief enemy to the people.\n",
            "\n"
          ]
        }
      ],
      "source": [
        "# Take a look at the first 250 characters in text\n",
        "print(text[:250])"
      ]
    },
    {
      "cell_type": "markdown",
      "metadata": {
        "id": "5vt8Vpe0RvaJ"
      },
      "source": [
        "###Encoding\n",
        "Since this text isn't encoded yet well need to do that ourselves. We are going to encode each unique character as a different integer.\n",
        "\n"
      ]
    },
    {
      "cell_type": "code",
      "execution_count": null,
      "metadata": {
        "id": "C7AZNI7aRz6y"
      },
      "outputs": [],
      "source": [
        "vocab = sorted(set(text))\n",
        "# Creating a mapping from unique characters to indices\n",
        "char2idx = {u:i for i, u in enumerate(vocab)}\n",
        "idx2char = np.array(vocab)\n",
        "\n",
        "def text_to_int(text):\n",
        "  return np.array([char2idx[c] for c in text])\n",
        "\n",
        "text_as_int = text_to_int(text)"
      ]
    },
    {
      "cell_type": "code",
      "execution_count": null,
      "metadata": {
        "colab": {
          "base_uri": "https://localhost:8080/"
        },
        "id": "_i5kvmX_SLW4",
        "outputId": "5c50bfd5-2ef7-48fa-c3d5-e236494c3347"
      },
      "outputs": [
        {
          "output_type": "stream",
          "name": "stdout",
          "text": [
            "Text: First Citizen\n",
            "Encoded: [18 47 56 57 58  1 15 47 58 47 64 43 52]\n"
          ]
        }
      ],
      "source": [
        "# lets look at how part of our text is encoded\n",
        "print(\"Text:\", text[:13])\n",
        "print(\"Encoded:\", text_to_int(text[:13]))"
      ]
    },
    {
      "cell_type": "markdown",
      "metadata": {
        "id": "h_ApX3EM6cye"
      },
      "source": [
        "Function for converting numerical values into text"
      ]
    },
    {
      "cell_type": "code",
      "execution_count": null,
      "metadata": {
        "colab": {
          "base_uri": "https://localhost:8080/"
        },
        "id": "Af52YChSW5hX",
        "outputId": "158063f9-cd63-4ccc-e4e2-fce498c21905"
      },
      "outputs": [
        {
          "output_type": "stream",
          "name": "stdout",
          "text": [
            "First Citizen\n"
          ]
        }
      ],
      "source": [
        "def int_to_text(ints):\n",
        "  try:\n",
        "    ints = ints.numpy()\n",
        "  except:\n",
        "    pass\n",
        "  return ''.join(idx2char[ints])\n",
        "\n",
        "print(int_to_text(text_as_int[:13]))"
      ]
    },
    {
      "cell_type": "markdown",
      "metadata": {
        "id": "T_49cl6uS0r-"
      },
      "source": [
        "###Creating Training Examples\n",
        "Our task is to feed the model a sequence and have it return to us the next character. This means we need to split our text data from above into many shorter sequences that we can pass to the model as training examples.\n",
        "\n",
        "The training examples we will prepapre will use a *seq_length* sequence as input and a *seq_length* sequence as the output where that sequence is the original sequence shifted one letter to the right. For example:\n",
        "\n",
        "```input: Hell | output: ello```\n",
        "\n",
        "Our first step will be to create a stream of characters from our text data.\n",
        "Therfore, we will need to pick 1 more character for every single training sample to help the model recognize the next character."
      ]
    },
    {
      "cell_type": "code",
      "execution_count": null,
      "metadata": {
        "id": "xBkXz9fjUQHW"
      },
      "outputs": [],
      "source": [
        "seq_length = 200  # length of sequence for a training example\n",
        "examples_per_epoch = len(text)//(seq_length+1)\n",
        "\n",
        "# Create training examples / targets\n",
        "char_dataset = tf.data.Dataset.from_tensor_slices(text_as_int)"
      ]
    },
    {
      "cell_type": "markdown",
      "metadata": {
        "id": "pqmxfT7gVGlr"
      },
      "source": [
        "Next we can use the batch method to turn this stream of characters into batches of desired length."
      ]
    },
    {
      "cell_type": "code",
      "execution_count": null,
      "metadata": {
        "id": "Xi0xaPB_VOJl"
      },
      "outputs": [],
      "source": [
        "sequences = char_dataset.batch(seq_length+1, drop_remainder=True)"
      ]
    },
    {
      "cell_type": "markdown",
      "metadata": {
        "id": "fxo1Dig_VvV1"
      },
      "source": [
        "Now we need to use these sequences of length 201 and split them into input and output."
      ]
    },
    {
      "cell_type": "code",
      "execution_count": null,
      "metadata": {
        "id": "03zKVHTvV0Km"
      },
      "outputs": [],
      "source": [
        "def split_input_target(chunk):  # for the example: hello\n",
        "    input_text = chunk[:-1]  # hell\n",
        "    target_text = chunk[1:]  # ello\n",
        "    return input_text, target_text  # hell, ello\n",
        "\n",
        "dataset = sequences.map(split_input_target)  # we use map to apply the above function to every entry"
      ]
    },
    {
      "cell_type": "code",
      "execution_count": null,
      "metadata": {
        "colab": {
          "base_uri": "https://localhost:8080/"
        },
        "id": "9p_y2YmgWbnc",
        "outputId": "5c40ba41-5cc1-4fd4-a719-89f3332d1e63"
      },
      "outputs": [
        {
          "output_type": "stream",
          "name": "stdout",
          "text": [
            "\n",
            "\n",
            "EXAMPLE\n",
            "\n",
            "INPUT\n",
            "First Citizen:\n",
            "Before we proceed any further, hear me speak.\n",
            "\n",
            "All:\n",
            "Speak, speak.\n",
            "\n",
            "First Citizen:\n",
            "You are all resolved rather to die than to famish?\n",
            "\n",
            "All:\n",
            "Resolved. resolved.\n",
            "\n",
            "First Citizen:\n",
            "First, you\n",
            "\n",
            "OUTPUT\n",
            "irst Citizen:\n",
            "Before we proceed any further, hear me speak.\n",
            "\n",
            "All:\n",
            "Speak, speak.\n",
            "\n",
            "First Citizen:\n",
            "You are all resolved rather to die than to famish?\n",
            "\n",
            "All:\n",
            "Resolved. resolved.\n",
            "\n",
            "First Citizen:\n",
            "First, you \n",
            "\n",
            "\n",
            "EXAMPLE\n",
            "\n",
            "INPUT\n",
            "know Caius Marcius is chief enemy to the people.\n",
            "\n",
            "All:\n",
            "We know't, we know't.\n",
            "\n",
            "First Citizen:\n",
            "Let us kill him, and we'll have corn at our own price.\n",
            "Is't a verdict?\n",
            "\n",
            "All:\n",
            "No more talking on't; let it b\n",
            "\n",
            "OUTPUT\n",
            "now Caius Marcius is chief enemy to the people.\n",
            "\n",
            "All:\n",
            "We know't, we know't.\n",
            "\n",
            "First Citizen:\n",
            "Let us kill him, and we'll have corn at our own price.\n",
            "Is't a verdict?\n",
            "\n",
            "All:\n",
            "No more talking on't; let it be\n"
          ]
        }
      ],
      "source": [
        "for x, y in dataset.take(2):\n",
        "  print(\"\\n\\nEXAMPLE\\n\")\n",
        "  print(\"INPUT\")\n",
        "  print(int_to_text(x))\n",
        "  print(\"\\nOUTPUT\")\n",
        "  print(int_to_text(y))"
      ]
    },
    {
      "cell_type": "markdown",
      "metadata": {
        "id": "v6OxuFKVXpwK"
      },
      "source": [
        "Finally we need to make training batches."
      ]
    },
    {
      "cell_type": "code",
      "execution_count": null,
      "metadata": {
        "id": "cRsKcjhXXuoD"
      },
      "outputs": [],
      "source": [
        "BATCH_SIZE = 64\n",
        "VOCAB_SIZE = len(vocab)  # vocab is number of unique characters\n",
        "EMBEDDING_DIM = 256\n",
        "RNN_UNITS = 1024\n",
        "\n",
        "# Buffer size to shuffle the dataset\n",
        "# (TF data is designed to work with possibly infinite sequences,\n",
        "# so it doesn't attempt to shuffle the entire sequence in memory. Instead,\n",
        "# it maintains a buffer in which it shuffles elements).\n",
        "BUFFER_SIZE = 10000\n",
        "\n",
        "data = dataset.shuffle(BUFFER_SIZE).batch(BATCH_SIZE, drop_remainder=True)"
      ]
    },
    {
      "cell_type": "markdown",
      "metadata": {
        "id": "E6YRmZLtX0d0"
      },
      "source": [
        "###Building the Model\n",
        "Now it is time to build the model. We will use an embedding layer a LSTM and one dense layer that contains a node for each unique character in our training data. The dense layer will give us a probability distribution over all nodes."
      ]
    },
    {
      "cell_type": "code",
      "execution_count": null,
      "metadata": {
        "colab": {
          "base_uri": "https://localhost:8080/"
        },
        "id": "5v_P2dEic4qt",
        "outputId": "5cf2c7d5-9b9f-499a-b7ad-2be4b64693c3"
      },
      "outputs": [
        {
          "output_type": "stream",
          "name": "stdout",
          "text": [
            "Model: \"sequential\"\n",
            "_________________________________________________________________\n",
            " Layer (type)                Output Shape              Param #   \n",
            "=================================================================\n",
            " embedding (Embedding)       (64, None, 256)           16640     \n",
            "                                                                 \n",
            " lstm (LSTM)                 (64, None, 1024)          5246976   \n",
            "                                                                 \n",
            " dense (Dense)               (64, None, 65)            66625     \n",
            "                                                                 \n",
            "=================================================================\n",
            "Total params: 5,330,241\n",
            "Trainable params: 5,330,241\n",
            "Non-trainable params: 0\n",
            "_________________________________________________________________\n"
          ]
        }
      ],
      "source": [
        "def build_model(vocab_size, embedding_dim, rnn_units, batch_size):\n",
        "  model = tf.keras.Sequential([\n",
        "    tf.keras.layers.Embedding(vocab_size, embedding_dim,\n",
        "                              batch_input_shape=[batch_size, None]),\n",
        "    tf.keras.layers.LSTM(rnn_units,\n",
        "                        return_sequences=True,\n",
        "                        stateful=True,\n",
        "                        recurrent_initializer='glorot_uniform'),\n",
        "    tf.keras.layers.Dense(vocab_size)\n",
        "  ])\n",
        "  return model\n",
        "\n",
        "model = build_model(VOCAB_SIZE,EMBEDDING_DIM, RNN_UNITS, BATCH_SIZE)\n",
        "model.summary()"
      ]
    },
    {
      "cell_type": "markdown",
      "metadata": {
        "id": "8gfnHBUOvPqE"
      },
      "source": [
        "###Creating a Loss Function\n",
        "Now we are going to create our own loss function for this problem. This is because our model will output a (64, sequence_length, 65) shaped tensor that represents the probability distribution of each character at each timestep for every sequence in the batch.\n",
        "\n"
      ]
    },
    {
      "cell_type": "markdown",
      "metadata": {
        "id": "g_ERM4F15v_S"
      },
      "source": [
        "However, before we do that let's have a look at a sample input and the output from our untrained model. This is so we can understand what the model is giving us.\n",
        "\n"
      ]
    },
    {
      "cell_type": "code",
      "execution_count": null,
      "metadata": {
        "colab": {
          "base_uri": "https://localhost:8080/"
        },
        "id": "KdvEqlwc6_q0",
        "outputId": "6dac684f-2bec-46ef-cfe6-40c4566be0d1"
      },
      "outputs": [
        {
          "output_type": "stream",
          "name": "stdout",
          "text": [
            "(64, 200, 65) # (batch_size, sequence_length, vocab_size)\n"
          ]
        }
      ],
      "source": [
        "for input_example_batch, target_example_batch in data.take(1):\n",
        "  example_batch_predictions = model(input_example_batch)  # ask our model for a prediction on our first batch of training data (64 entries)\n",
        "  print(example_batch_predictions.shape, \"# (batch_size, sequence_length, vocab_size)\")  # print out the output shape"
      ]
    },
    {
      "cell_type": "code",
      "execution_count": null,
      "metadata": {
        "colab": {
          "base_uri": "https://localhost:8080/"
        },
        "id": "RQS5KXwi7_NX",
        "outputId": "499ca633-6c4b-47ca-a14f-33efa31a2008"
      },
      "outputs": [
        {
          "output_type": "stream",
          "name": "stdout",
          "text": [
            "64\n",
            "tf.Tensor(\n",
            "[[[-1.63194025e-03 -3.08952015e-03  2.49769026e-03 ...  2.22982001e-03\n",
            "    1.69012253e-03  3.25969304e-03]\n",
            "  [-5.45215467e-03 -2.20347755e-03 -7.85917393e-04 ... -3.39333806e-03\n",
            "    1.61740684e-03 -3.07739852e-03]\n",
            "  [-4.06617858e-03 -2.29944428e-03 -1.76013168e-03 ... -2.30753701e-03\n",
            "   -4.98093199e-04 -2.66354415e-03]\n",
            "  ...\n",
            "  [ 4.64455085e-03 -3.24609154e-03  1.03170201e-02 ... -7.44730467e-03\n",
            "    3.67813441e-03 -5.88840293e-03]\n",
            "  [ 1.28858886e-03 -5.03809331e-03  1.08328508e-02 ... -2.39599403e-03\n",
            "    4.02543321e-03 -4.68808739e-03]\n",
            "  [ 1.75672432e-03 -3.86587693e-03  6.21458050e-03 ... -1.05027494e-03\n",
            "    1.94690446e-03 -4.13409015e-03]]\n",
            "\n",
            " [[-1.01287512e-03  2.37863837e-03  6.21187093e-04 ... -2.86992989e-03\n",
            "    2.69001373e-03 -1.85820041e-03]\n",
            "  [-1.08495587e-03  2.35196858e-05  2.07983889e-03 ... -2.21139542e-03\n",
            "   -2.53120484e-03 -5.62389148e-04]\n",
            "  [ 1.75028422e-03  6.43867301e-04 -5.83601242e-04 ...  6.17705844e-03\n",
            "   -4.69713891e-03  9.72068869e-04]\n",
            "  ...\n",
            "  [ 7.88686704e-03  9.56391264e-03  2.79364106e-03 ...  1.74372210e-04\n",
            "   -9.27615678e-04 -1.21299096e-03]\n",
            "  [ 8.67678970e-03  8.33114423e-03  2.99776485e-03 ...  2.22964189e-03\n",
            "   -7.51730753e-04  2.88622268e-03]\n",
            "  [ 7.81207811e-03  6.26851944e-03  3.56322853e-03 ...  4.10087686e-03\n",
            "   -1.12087524e-03  5.32911532e-03]]\n",
            "\n",
            " [[ 5.15200105e-03  3.49622755e-03  1.44310482e-03 ...  1.78647257e-04\n",
            "   -4.95608849e-03 -3.31369950e-03]\n",
            "  [ 1.10672938e-03  1.10004400e-03  5.58911217e-03 ... -2.69541540e-03\n",
            "   -4.18882351e-03 -2.78128008e-03]\n",
            "  [-3.98402102e-03  2.31623510e-03  1.24212087e-03 ... -6.56243879e-03\n",
            "   -1.80740061e-03 -7.12109497e-03]\n",
            "  ...\n",
            "  [-7.12727010e-03  2.00815755e-03  3.16906488e-03 ... -1.39512587e-02\n",
            "    3.29713104e-03 -1.04995538e-02]\n",
            "  [-6.63297856e-03  2.36207573e-03  4.42170119e-03 ... -1.71596017e-02\n",
            "    7.30524259e-03 -1.51140234e-02]\n",
            "  [-8.78844131e-03  5.88613423e-03  5.85099962e-03 ... -1.07250279e-02\n",
            "    1.73866632e-03 -8.39987397e-03]]\n",
            "\n",
            " ...\n",
            "\n",
            " [[-6.15280820e-03  2.48302170e-03 -2.43100920e-04 ...  2.70142616e-03\n",
            "    2.57777679e-03  3.84547026e-03]\n",
            "  [-8.83388706e-03  2.65780464e-03 -2.53661675e-03 ... -1.89358857e-03\n",
            "    2.02398514e-03 -1.68943696e-03]\n",
            "  [-4.46329080e-03  7.33058108e-03 -4.40476835e-03 ...  1.09104614e-03\n",
            "    1.01502368e-03 -3.26166768e-03]\n",
            "  ...\n",
            "  [-1.86817851e-04  5.07046934e-03  3.94290127e-03 ... -5.11538843e-03\n",
            "    6.82823360e-04 -1.00118518e-02]\n",
            "  [-4.15030262e-03  5.12966514e-03  1.05592469e-03 ... -7.19554350e-03\n",
            "    7.45308294e-04 -1.34379407e-02]\n",
            "  [-2.51591718e-03  7.39046419e-03  4.86683287e-03 ... -1.11851310e-02\n",
            "    6.57584472e-03 -1.05966991e-02]]\n",
            "\n",
            " [[-7.46721402e-04 -1.75918482e-04  5.59149717e-04 ... -5.80890337e-03\n",
            "    4.11973288e-03 -7.27462862e-03]\n",
            "  [ 9.22508189e-04 -1.21687255e-04 -2.57701986e-03 ...  2.89509026e-03\n",
            "    9.17837722e-04 -4.78196796e-03]\n",
            "  [ 4.57752449e-03 -4.54670656e-03 -1.02723762e-03 ... -1.74696918e-03\n",
            "    1.41138316e-03 -5.03211841e-03]\n",
            "  ...\n",
            "  [-7.53772305e-03  1.13725336e-02  7.48809543e-04 ...  1.11256202e-03\n",
            "    8.08364712e-03 -6.86572632e-04]\n",
            "  [-1.23979955e-03  5.49009815e-03  3.57283792e-03 ... -5.12174389e-04\n",
            "    1.03921618e-03 -8.07715394e-03]\n",
            "  [-6.26691245e-03 -8.65816110e-05  5.71136642e-03 ... -7.59063754e-03\n",
            "    1.95577345e-03 -8.78933445e-03]]\n",
            "\n",
            " [[ 1.94578606e-03  1.85003097e-03 -8.44921524e-05 ...  4.15309239e-03\n",
            "    5.24364477e-05  2.01642956e-03]\n",
            "  [-3.05972877e-03  2.39346363e-03 -3.01485858e-03 ... -1.17143127e-03\n",
            "    8.36242514e-04 -3.18780518e-03]\n",
            "  [ 1.32564208e-04  6.34385855e-04  8.15703941e-04 ... -5.84917318e-04\n",
            "    4.24893573e-03 -3.58075881e-03]\n",
            "  ...\n",
            "  [-3.47337103e-03  5.60261356e-03 -5.83572406e-03 ... -5.93061233e-03\n",
            "    4.24876250e-03 -1.32356659e-02]\n",
            "  [-2.33551254e-03  4.09531686e-03 -3.33557581e-03 ... -9.70789324e-03\n",
            "    8.59042816e-03 -1.75995547e-02]\n",
            "  [-4.21197200e-03  1.64337747e-03  3.11149028e-03 ... -8.73170700e-03\n",
            "    4.21553012e-03 -1.42349871e-02]]], shape=(64, 200, 65), dtype=float32)\n"
          ]
        }
      ],
      "source": [
        "# we can see that the predicition is an array of 64 arrays, one for each entry in the batch\n",
        "print(len(example_batch_predictions))\n",
        "print(example_batch_predictions)"
      ]
    },
    {
      "cell_type": "code",
      "execution_count": null,
      "metadata": {
        "colab": {
          "base_uri": "https://localhost:8080/"
        },
        "id": "sA1Zhop28V9n",
        "outputId": "5b5dd48b-df50-4746-946b-745691d53ef8"
      },
      "outputs": [
        {
          "output_type": "stream",
          "name": "stdout",
          "text": [
            "200\n",
            "tf.Tensor(\n",
            "[[-0.00163194 -0.00308952  0.00249769 ...  0.00222982  0.00169012\n",
            "   0.00325969]\n",
            " [-0.00545215 -0.00220348 -0.00078592 ... -0.00339334  0.00161741\n",
            "  -0.0030774 ]\n",
            " [-0.00406618 -0.00229944 -0.00176013 ... -0.00230754 -0.00049809\n",
            "  -0.00266354]\n",
            " ...\n",
            " [ 0.00464455 -0.00324609  0.01031702 ... -0.0074473   0.00367813\n",
            "  -0.0058884 ]\n",
            " [ 0.00128859 -0.00503809  0.01083285 ... -0.00239599  0.00402543\n",
            "  -0.00468809]\n",
            " [ 0.00175672 -0.00386588  0.00621458 ... -0.00105027  0.0019469\n",
            "  -0.00413409]], shape=(200, 65), dtype=float32)\n"
          ]
        }
      ],
      "source": [
        "# lets examine one prediction\n",
        "pred = example_batch_predictions[0]\n",
        "print(len(pred))\n",
        "print(pred)\n",
        "# notice this is a 2d array of length 100, where each interior array is the prediction for the next character at each time step"
      ]
    },
    {
      "cell_type": "code",
      "execution_count": null,
      "metadata": {
        "colab": {
          "base_uri": "https://localhost:8080/"
        },
        "id": "UbIoe7Ei8q3q",
        "outputId": "8c1a38ca-f200-423c-b2d4-bc53bcd5daa2"
      },
      "outputs": [
        {
          "output_type": "stream",
          "name": "stdout",
          "text": [
            "65\n",
            "tf.Tensor(\n",
            "[-1.6319402e-03 -3.0895201e-03  2.4976903e-03 -3.0725219e-03\n",
            "  3.1284110e-03  1.4380623e-03 -1.1958041e-03  7.6903049e-03\n",
            " -1.3238168e-03  2.2155647e-03 -5.7516536e-03  1.2631748e-03\n",
            "  2.3814095e-03 -2.3744658e-03  6.1876960e-03  4.9306685e-03\n",
            " -1.7731625e-03 -1.5326784e-03  2.9690585e-03 -9.6661353e-04\n",
            "  1.1210125e-03  3.1474114e-03  3.1549074e-03  7.8878499e-04\n",
            "  4.2642276e-03 -2.4324986e-03  8.2512316e-04 -1.2175217e-03\n",
            "  2.9306354e-03  2.1674205e-03 -2.6884854e-03  1.2236183e-03\n",
            "  1.9463529e-03  3.9519859e-03 -3.8251474e-03  3.8225027e-03\n",
            " -4.4533047e-03  3.9876389e-04 -4.1291662e-03  4.4929604e-03\n",
            " -1.6835886e-03  3.0182994e-03 -4.3322425e-03  2.7524519e-03\n",
            " -2.9273259e-03  1.1501428e-03 -1.5722650e-05  9.6379779e-04\n",
            "  1.3627572e-03  3.7642493e-04 -1.4710580e-03  5.3613116e-03\n",
            "  8.4287027e-04  3.0008478e-03 -3.0021376e-03 -1.7829862e-03\n",
            " -1.4676178e-04 -2.4703721e-04 -4.0537305e-03  1.4371549e-04\n",
            "  1.1234693e-03  1.4021081e-03  2.2298200e-03  1.6901225e-03\n",
            "  3.2596930e-03], shape=(65,), dtype=float32)\n"
          ]
        }
      ],
      "source": [
        "# and finally well look at a prediction at the first timestep\n",
        "time_pred = pred[0]\n",
        "print(len(time_pred))\n",
        "print(time_pred)\n",
        "# and of course its 65 values representing the probabillity of each character occuring next"
      ]
    },
    {
      "cell_type": "code",
      "execution_count": null,
      "metadata": {
        "colab": {
          "base_uri": "https://localhost:8080/",
          "height": 54
        },
        "id": "qlEYM1H995gR",
        "outputId": "83540fc0-cc5f-49c5-ec9a-9b81da787b34"
      },
      "outputs": [
        {
          "output_type": "execute_result",
          "data": {
            "application/vnd.google.colaboratory.intrinsic+json": {
              "type": "string"
            },
            "text/plain": [
              "\"Kcd-MvYZyUFfp !b'B'e?q$ZVK&s:tIA,?mBUiR'v&MMZ\\nCS,:jhYo$FAwmp!DPuMhvADIGqqzCtNTPoRsTUfQNB\\n:G:SkbCeF'matvStjaE3Vdnk :A p.pAk3,fbt.hc 3\\nc!utgXa ,tJBetVMHFjUdVk;-$:jpS$Hb?VETpkYHGbQEDB!Kq?BEOemdhrYGg$X-rh\""
            ]
          },
          "metadata": {},
          "execution_count": 20
        }
      ],
      "source": [
        "# If we want to determine the predicted character we need to sample the output distribution (pick a value based on probabillity)\n",
        "sampled_indices = tf.random.categorical(pred, num_samples=1)\n",
        "\n",
        "# now we can reshape that array and convert all the integers to numbers to see the actual characters\n",
        "sampled_indices = np.reshape(sampled_indices, (1, -1))[0]\n",
        "predicted_chars = int_to_text(sampled_indices)\n",
        "\n",
        "predicted_chars  # and this is what the model predicted for training sequence 1"
      ]
    },
    {
      "cell_type": "markdown",
      "metadata": {
        "id": "qcCBfPjN9Cnp"
      },
      "source": [
        "So now we need to create a loss function that can compare that output to the expected output and give us some numeric value representing how close the two were."
      ]
    },
    {
      "cell_type": "code",
      "execution_count": null,
      "metadata": {
        "id": "ZOw23fWq9D9O"
      },
      "outputs": [],
      "source": [
        "def loss(labels, logits):\n",
        "  return tf.keras.losses.sparse_categorical_crossentropy(labels, logits, from_logits=True)"
      ]
    },
    {
      "cell_type": "markdown",
      "metadata": {
        "id": "kcg75GwXgW81"
      },
      "source": [
        "###Compiling the Model\n",
        "At this point we can think of our problem as a classification problem where the model predicts the probabillity of each unique letter coming next.\n"
      ]
    },
    {
      "cell_type": "code",
      "execution_count": null,
      "metadata": {
        "id": "9g6o7zA_hAiS"
      },
      "outputs": [],
      "source": [
        "model.compile(optimizer='adam', loss=loss)"
      ]
    },
    {
      "cell_type": "markdown",
      "metadata": {
        "id": "YgDKr4yvjLPI"
      },
      "source": [
        "###Creating Checkpoints\n",
        "Now we are going to setup and configure our model to save checkpoinst as it trains. This will allow us to load our model from a checkpoint and continue training it."
      ]
    },
    {
      "cell_type": "code",
      "execution_count": null,
      "metadata": {
        "id": "v7aMushYjSpy"
      },
      "outputs": [],
      "source": [
        "# Directory where the checkpoints will be saved\n",
        "checkpoint_dir = './training_checkpoints'\n",
        "# Name of the checkpoint files\n",
        "checkpoint_prefix = os.path.join(checkpoint_dir, \"ckpt_{epoch}\")\n",
        "\n",
        "checkpoint_callback=tf.keras.callbacks.ModelCheckpoint(\n",
        "    filepath=checkpoint_prefix,\n",
        "    save_weights_only=True)"
      ]
    },
    {
      "cell_type": "markdown",
      "metadata": {
        "id": "0p7acPvGja5c"
      },
      "source": [
        "###Training\n",
        "Finally, we will start training the model.\n",
        "\n",
        "**If this is taking a while go to Runtime > Change Runtime Type and choose \"GPU\" under hardware accelerator.**\n",
        "\n"
      ]
    },
    {
      "cell_type": "code",
      "execution_count": null,
      "metadata": {
        "colab": {
          "base_uri": "https://localhost:8080/"
        },
        "id": "R4PAgrwMjZ4_",
        "outputId": "1f40966b-e1f2-4068-8577-c8928f0c91de"
      },
      "outputs": [
        {
          "output_type": "stream",
          "name": "stdout",
          "text": [
            "Epoch 1/50\n",
            "86/86 [==============================] - 30s 298ms/step - loss: 3.0257\n",
            "Epoch 2/50\n",
            "86/86 [==============================] - 28s 303ms/step - loss: 2.2452\n",
            "Epoch 3/50\n",
            "86/86 [==============================] - 28s 309ms/step - loss: 1.9845\n",
            "Epoch 4/50\n",
            "86/86 [==============================] - 29s 313ms/step - loss: 1.7990\n",
            "Epoch 5/50\n",
            "86/86 [==============================] - 28s 311ms/step - loss: 1.6665\n",
            "Epoch 6/50\n",
            "86/86 [==============================] - 29s 313ms/step - loss: 1.5673\n",
            "Epoch 7/50\n",
            "86/86 [==============================] - 29s 314ms/step - loss: 1.4932\n",
            "Epoch 8/50\n",
            "86/86 [==============================] - 29s 313ms/step - loss: 1.4372\n",
            "Epoch 9/50\n",
            "86/86 [==============================] - 29s 317ms/step - loss: 1.3911\n",
            "Epoch 10/50\n",
            "86/86 [==============================] - 29s 316ms/step - loss: 1.3523\n",
            "Epoch 11/50\n",
            "86/86 [==============================] - 28s 311ms/step - loss: 1.3200\n",
            "Epoch 12/50\n",
            "86/86 [==============================] - 29s 313ms/step - loss: 1.2887\n",
            "Epoch 13/50\n",
            "86/86 [==============================] - 28s 314ms/step - loss: 1.2618\n",
            "Epoch 14/50\n",
            "86/86 [==============================] - 28s 314ms/step - loss: 1.2359\n",
            "Epoch 15/50\n",
            "86/86 [==============================] - 29s 317ms/step - loss: 1.2106\n",
            "Epoch 16/50\n",
            "86/86 [==============================] - 29s 315ms/step - loss: 1.1846\n",
            "Epoch 17/50\n",
            "86/86 [==============================] - 28s 311ms/step - loss: 1.1578\n",
            "Epoch 18/50\n",
            "86/86 [==============================] - 29s 314ms/step - loss: 1.1312\n",
            "Epoch 19/50\n",
            "86/86 [==============================] - 29s 312ms/step - loss: 1.1058\n",
            "Epoch 20/50\n",
            "86/86 [==============================] - 29s 312ms/step - loss: 1.0765\n",
            "Epoch 21/50\n",
            "86/86 [==============================] - 29s 315ms/step - loss: 1.0473\n",
            "Epoch 22/50\n",
            "86/86 [==============================] - 29s 315ms/step - loss: 1.0175\n",
            "Epoch 23/50\n",
            "86/86 [==============================] - 28s 312ms/step - loss: 0.9839\n",
            "Epoch 24/50\n",
            "86/86 [==============================] - 28s 314ms/step - loss: 0.9535\n",
            "Epoch 25/50\n",
            "86/86 [==============================] - 29s 314ms/step - loss: 0.9185\n",
            "Epoch 26/50\n",
            "86/86 [==============================] - 29s 313ms/step - loss: 0.8839\n",
            "Epoch 27/50\n",
            "86/86 [==============================] - 29s 316ms/step - loss: 0.8489\n",
            "Epoch 28/50\n",
            "86/86 [==============================] - 29s 313ms/step - loss: 0.8137\n",
            "Epoch 29/50\n",
            "86/86 [==============================] - 28s 312ms/step - loss: 0.7812\n",
            "Epoch 30/50\n",
            "86/86 [==============================] - 28s 313ms/step - loss: 0.7442\n",
            "Epoch 31/50\n",
            "86/86 [==============================] - 29s 314ms/step - loss: 0.7102\n",
            "Epoch 32/50\n",
            "86/86 [==============================] - 28s 304ms/step - loss: 0.6783\n",
            "Epoch 33/50\n",
            "86/86 [==============================] - 28s 308ms/step - loss: 0.6476\n",
            "Epoch 34/50\n",
            "86/86 [==============================] - 29s 314ms/step - loss: 0.6178\n",
            "Epoch 35/50\n",
            "86/86 [==============================] - 28s 311ms/step - loss: 0.5897\n",
            "Epoch 36/50\n",
            "86/86 [==============================] - 29s 314ms/step - loss: 0.5646\n",
            "Epoch 37/50\n",
            "86/86 [==============================] - 29s 314ms/step - loss: 0.5410\n",
            "Epoch 38/50\n",
            "86/86 [==============================] - 28s 314ms/step - loss: 0.5165\n",
            "Epoch 39/50\n",
            "86/86 [==============================] - 29s 317ms/step - loss: 0.4949\n",
            "Epoch 40/50\n",
            "86/86 [==============================] - 29s 315ms/step - loss: 0.4762\n",
            "Epoch 41/50\n",
            "86/86 [==============================] - 29s 311ms/step - loss: 0.4585\n",
            "Epoch 42/50\n",
            "86/86 [==============================] - 29s 313ms/step - loss: 0.4414\n",
            "Epoch 43/50\n",
            "86/86 [==============================] - 28s 313ms/step - loss: 0.4243\n",
            "Epoch 44/50\n",
            "86/86 [==============================] - 29s 314ms/step - loss: 0.4103\n",
            "Epoch 45/50\n",
            "86/86 [==============================] - 29s 317ms/step - loss: 0.3990\n",
            "Epoch 46/50\n",
            "86/86 [==============================] - 29s 315ms/step - loss: 0.3897\n",
            "Epoch 47/50\n",
            "86/86 [==============================] - 28s 313ms/step - loss: 0.3761\n",
            "Epoch 48/50\n",
            "86/86 [==============================] - 28s 313ms/step - loss: 0.3651\n",
            "Epoch 49/50\n",
            "86/86 [==============================] - 28s 314ms/step - loss: 0.3541\n",
            "Epoch 50/50\n",
            "86/86 [==============================] - 29s 313ms/step - loss: 0.3461\n"
          ]
        }
      ],
      "source": [
        "history = model.fit(data, epochs=50, callbacks=[checkpoint_callback])"
      ]
    },
    {
      "cell_type": "markdown",
      "metadata": {
        "id": "9GhoHJVtmTsz"
      },
      "source": [
        "###Loading the Model\n",
        "We'll rebuild the model from a checkpoint using a batch_size of 1 so that we can feed one peice of text to the model and have it make a prediction."
      ]
    },
    {
      "cell_type": "code",
      "execution_count": null,
      "metadata": {
        "id": "TPSto3uimSKp"
      },
      "outputs": [],
      "source": [
        "model = build_model(VOCAB_SIZE, EMBEDDING_DIM, RNN_UNITS, batch_size=1)"
      ]
    },
    {
      "cell_type": "markdown",
      "metadata": {
        "id": "boEJvy_vjLJQ"
      },
      "source": [
        "Once the model is finished training, we can find the **lastest checkpoint** that stores the models weights using the following line.\n",
        "\n"
      ]
    },
    {
      "cell_type": "code",
      "execution_count": null,
      "metadata": {
        "id": "PZIEZWE4mNKl"
      },
      "outputs": [],
      "source": [
        "model.load_weights(tf.train.latest_checkpoint(checkpoint_dir))\n",
        "model.build(tf.TensorShape([1, None]))"
      ]
    },
    {
      "cell_type": "markdown",
      "metadata": {
        "id": "CmPPtbaTKF8d"
      },
      "source": [
        "We can load **any checkpoint** we want by specifying the exact file to load."
      ]
    },
    {
      "cell_type": "code",
      "execution_count": null,
      "metadata": {
        "id": "YQ_5p0ehKFDn"
      },
      "outputs": [],
      "source": [
        "checkpoint_num = 10\n",
        "#model.load_weights(tf.train.load_checkpoint(\"./training_checkpoints/ckpt_\" + str(checkpoint_num)))\n",
        "model.build(tf.TensorShape([1, None]))"
      ]
    },
    {
      "cell_type": "markdown",
      "metadata": {
        "id": "KaZWalEeAxQN"
      },
      "source": [
        "###Generating Text\n",
        "Now we can use the lovely function provided by tensorflow to generate some text using any starting string we'd like."
      ]
    },
    {
      "cell_type": "code",
      "execution_count": null,
      "metadata": {
        "id": "oPSALdQXA3l3"
      },
      "outputs": [],
      "source": [
        "def generate_text(model, start_string):\n",
        "  # Evaluation step (generating text using the learned model)\n",
        "\n",
        "  # Number of characters to generate\n",
        "  num_generate = 800\n",
        "\n",
        "  # Converting our start string to numbers (vectorizing)\n",
        "  input_eval = [char2idx[s] for s in start_string]\n",
        "  input_eval = tf.expand_dims(input_eval, 0)\n",
        "\n",
        "  # Empty string to store our results\n",
        "  text_generated = []\n",
        "\n",
        "  # Low temperatures results in more predictable text.\n",
        "  # Higher temperatures results in more surprising text.\n",
        "  # Experiment to find the best setting.\n",
        "  temperature = 1.0\n",
        "\n",
        "  # Here batch size == 1\n",
        "  model.reset_states()\n",
        "  for i in range(num_generate):\n",
        "      predictions = model(input_eval)\n",
        "      # remove the batch dimension\n",
        "\n",
        "      predictions = tf.squeeze(predictions, 0)\n",
        "\n",
        "      # using a categorical distribution to predict the character returned by the model\n",
        "      predictions = predictions / temperature\n",
        "      predicted_id = tf.random.categorical(predictions, num_samples=1)[-1,0].numpy()\n",
        "\n",
        "      # We pass the predicted character as the next input to the model\n",
        "      # along with the previous hidden state\n",
        "      input_eval = tf.expand_dims([predicted_id], 0)\n",
        "\n",
        "      text_generated.append(idx2char[predicted_id])\n",
        "\n",
        "  return (start_string + ''.join(text_generated))"
      ]
    },
    {
      "cell_type": "code",
      "execution_count": null,
      "metadata": {
        "id": "cAJqhD9AA5mF",
        "colab": {
          "base_uri": "https://localhost:8080/"
        },
        "outputId": "c7969681-f172-4cfb-dc1c-2dff5adcfc7f"
      },
      "outputs": [
        {
          "output_type": "stream",
          "name": "stdout",
          "text": [
            "Type a starting string: I  will go by thee\n",
            "I  will go by thee;\n",
            "For thou injurious sweet discretion, I\n",
            "For Tybalt scandler, till thou trunk'd\n",
            "To go anothing the belly's member,\n",
            "Though us to counteffeit strange, not in Padua,\n",
            "But 'eack'd with him again.\n",
            "\n",
            "CURTIS:\n",
            "They are.\n",
            "\n",
            "GEORCE:\n",
            "Where is thy wrongfully have done unto myself?\n",
            "O, make them shape; they came unto my grief;\n",
            "It could denave for lives in a helpey though on't.\n",
            "\n",
            "ESCALUS:\n",
            "Of what of Harry, thou hast soundleast,\n",
            "But put on me and fellow the eagles!\n",
            "\n",
            "MENENIUS:\n",
            "A net false brother.\n",
            "\n",
            "SICINIUS:\n",
            "Have you collected them home:\n",
            "God wrinklen welcome Henry, be gone before to would not let it know\n",
            "The nature of their living with the hour;\n",
            "And she, the loving kisson Tarpeians,\n",
            "Who dids you have told you in this matter and will.\n",
            "\n",
            "KING RICHARD II:\n",
            "Thou hast spoke too much already: give me leave.\n",
            "\n",
            "HENRY BOLI\n"
          ]
        }
      ],
      "source": [
        "inp = input(\"Type a starting string: \")\n",
        "print(generate_text(model, inp))"
      ]
    },
    {
      "cell_type": "markdown",
      "metadata": {
        "id": "Cw-1eDE54yQo"
      },
      "source": [
        "##Sources\n",
        "\n",
        "1. Chollet François. Deep Learning with Python. Manning Publications Co., 2018.\n",
        "2. “Text Classification with an RNN &nbsp;: &nbsp; TensorFlow Core.” TensorFlow, www.tensorflow.org/tutorials/text/text_classification_rnn.\n",
        "3. “Text Generation with an RNN &nbsp;: &nbsp; TensorFlow Core.” TensorFlow, www.tensorflow.org/tutorials/text/text_generation.\n",
        "4. “Understanding LSTM Networks.” Understanding LSTM Networks -- Colah's Blog, https://colah.github.io/posts/2015-08-Understanding-LSTMs/."
      ]
    }
  ],
  "metadata": {
    "accelerator": "GPU",
    "colab": {
      "provenance": [],
      "include_colab_link": true
    },
    "kernelspec": {
      "display_name": "Python 3",
      "name": "python3"
    },
    "language_info": {
      "name": "python"
    }
  },
  "nbformat": 4,
  "nbformat_minor": 0
}